{
 "cells": [
  {
   "attachments": {},
   "cell_type": "markdown",
   "metadata": {},
   "source": [
    "# InstructGoose\n",
    "\n",
    "> Implementation of Reinforcement Learning from Human Feedback (RLHF) from the InstructGPT paper"
   ]
  },
  {
   "attachments": {},
   "cell_type": "markdown",
   "metadata": {},
   "source": [
    "Paper: InstructGPT - [Training language models to follow instructions with human feedback](https://arxiv.org/abs/2203.02155)"
   ]
  },
  {
   "attachments": {},
   "cell_type": "markdown",
   "metadata": {},
   "source": [
    "### Questions\n",
    "- In the context of RLHF, how to calculate the $L_t^{V F}(\\theta)$, \n",
    "    + Like it's a function of the PPO agent uses to predict how much reward it gets if generates the sequence?\n",
    "- ~~Does the RL model and the SFT model use the same tokenizer?\n",
    "    Yes~~\n",
    "- ~~I don't know how to returns the logit of the generation model~~"
   ]
  },
  {
   "cell_type": "markdown",
   "metadata": {},
   "source": []
  },
  {
   "cell_type": "markdown",
   "metadata": {},
   "source": []
  },
  {
   "cell_type": "markdown",
   "metadata": {},
   "source": [
    "## Install"
   ]
  },
  {
   "attachments": {},
   "cell_type": "markdown",
   "metadata": {},
   "source": [
    "```sh\n",
    "pip install instruct_goose\n",
    "```"
   ]
  },
  {
   "attachments": {},
   "cell_type": "markdown",
   "metadata": {},
   "source": [
    "### Resources\n",
    "I used these resources to implement this\n",
    "\n",
    "- Copied the `load_yaml` function from https://github.com/Dahoas/reward-modeling\n",
    "- Learned how to build a dataset to train reward model: https://wandb.ai/carperai/summarize_RLHF/reports/Implementing-RLHF-Learning-to-Summarize-with-trlX--VmlldzozMzAwODM2\n",
    "- Learned how to add value head in PPO agent: https://github.com/lvwerra/trl"
   ]
  },
  {
   "cell_type": "markdown",
   "metadata": {},
   "source": []
  }
 ],
 "metadata": {
  "kernelspec": {
   "display_name": "env",
   "language": "python",
   "name": "python3"
  }
 },
 "nbformat": 4,
 "nbformat_minor": 4
}
