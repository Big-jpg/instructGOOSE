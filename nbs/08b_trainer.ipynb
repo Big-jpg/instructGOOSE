{
 "cells": [
  {
   "attachments": {},
   "cell_type": "markdown",
   "metadata": {},
   "source": [
    "# Trainer\n",
    "\n",
    "> Fill in a module description here"
   ]
  },
  {
   "cell_type": "code",
   "execution_count": null,
   "metadata": {},
   "outputs": [],
   "source": [
    "#| default_exp trainer"
   ]
  },
  {
   "cell_type": "code",
   "execution_count": null,
   "metadata": {},
   "outputs": [],
   "source": [
    "#| hide\n",
    "import nbdev; nbdev.nbdev_export()"
   ]
  },
  {
   "cell_type": "code",
   "execution_count": null,
   "metadata": {},
   "outputs": [],
   "source": [
    "#| export\n",
    "import pytorch_lightning as pl "
   ]
  },
  {
   "cell_type": "code",
   "execution_count": null,
   "metadata": {},
   "outputs": [],
   "source": [
    "#| export\n",
    "from typing import Callable, Tuple\n",
    "\n",
    "import torch\n",
    "from torchtyping import TensorType"
   ]
  },
  {
   "attachments": {},
   "cell_type": "markdown",
   "metadata": {},
   "source": [
    "$L_t^{C L I P+V F+S}(\\theta)=\\hat{\\mathbb{E}}_t\\left[L_t^{C L I P}(\\theta)-c_1 L_t^{V F}(\\theta)+c_2 S\\left[\\pi_\\theta\\right]\\left(s_t\\right)\\right]$\n",
    "\n",
    "$L^{C L I P}(\\theta)=\\hat{\\mathbb{E}}_t\\left[\\min \\left(r_t(\\theta) \\hat{A}_t, \\operatorname{clip}\\left(r_t(\\theta), 1-\\epsilon, 1+\\epsilon\\right) \\hat{A}_t\\right)\\right]$\n",
    "\n",
    "$\\frac{\\pi_\\theta\\left(a_t \\mid s_t\\right)}{\\pi_{\\theta_{\\text {old }}}\\left(a_t \\mid s_t\\right)} = \\log(\\pi_\\theta\\left(a_t \\mid s_t\\right)) - \\log(\\pi_{\\theta_{\\text {old }}}\\left(a_t \\mid s_t\\right))$\n",
    "\n",
    "$r_t(\\theta)=\\frac{\\pi_\\theta\\left(a_t \\mid s_t\\right)}{\\pi_{\\theta_{\\text {old }}}\\left(a_t \\mid s_t\\right)}$"
   ]
  },
  {
   "cell_type": "code",
   "execution_count": null,
   "metadata": {},
   "outputs": [],
   "source": [
    "#| export\n",
    "class RLHFTrainer:\n",
    "    def __init__(\n",
    "        self, model: Callable, ref_model: Callable, config\n",
    "    ):\n",
    "        self.model = model\n",
    "        self.ref_model = ref_model\n",
    "        self.epsilon = config.epsilon\n",
    "        self.ent_coef = config.ent_coef\n",
    "        self.vf_coef = config.vf_coef\n",
    "    \n",
    "    def loss(\n",
    "        self,\n",
    "        old_logprobs: torch.FloatTensor,\n",
    "        values: TensorType[\"batch_size\"],\n",
    "        rewards: torch.FloatTensor,\n",
    "        query: torch.LongTensor,\n",
    "        response: torch.LongTensor,\n",
    "        model_input: torch.LongTensor,\n",
    "    ):\n",
    "        pass\n",
    "    \n",
    "    def loss(\n",
    "        self,\n",
    "        action_logprobs, entropy: TensorType[\"batch_size\"], values: TensorType[\"batch_size\"],\n",
    "        prev_logprobs\n",
    "    ) -> TensorType[\"batch_size\", 1]:\n",
    "       \n",
    "        # ref_probs = F.softmax(ref_logits, dim=-1)\n",
    "        \n",
    "        ratio = (action_logprobs - prev_logprobs).exp()\n",
    "        clipped_ratio = torch.clamp(ratio, min=1-self.epsilon, max=1+self.epsilon)\n",
    "        \n",
    "        # TODO: Implement the advantages\n",
    "        advantages = None\n",
    "        \n",
    "        unclipped_pg_loss = ratio * advantages\n",
    "        clipped_pg_loss = clipped_ratio * advantages\n",
    "        \n",
    "        pg_loss = torch.min(unclipped_pg_loss, clipped_pg_loss).mean()\n",
    "        \n",
    "        entropy_loss = entropy.mean()\n",
    "        value_losses = values.mean()\n",
    "        \n",
    "        loss = pg_loss - self.ent_coef * entropy_loss + self.vf_coef * value_losses\n",
    "        \n",
    "        return loss\n",
    "\n",
    "    def step(\n",
    "        self,\n",
    "        queries: TensorType[\"batch_size\", \"seq_len\"],\n",
    "        responses: TensorType[\"batch_size\", \"seq_len\"],\n",
    "        rewards: TensorType[\"batch_size\"],\n",
    "    ):\n",
    "        output = self.forward_batch(queries, responses)\n",
    "    \n",
    "    def forward_batch(\n",
    "        self,\n",
    "        queries: TensorType[\"batch_size\", \"seq_len\"],\n",
    "        responses: TensorType[\"batch_size\", \"seq_len\"]\n",
    "    ) -> Tuple[TensorType[\"batch_size\", \"\"]]:\n",
    "        inputs = torch.cat([queries, responses], dim=1)\n",
    "        \n",
    "        with torch.no_grad():\n",
    "            _, logprobs, _, value = self.model(inputs)\n",
    "            _, ref_logprob, _, _ = self.ref_model(inputs)\n",
    "            \n",
    "        return logprobs, ref_logprob, value\n",
    "    \n",
    "    def forward(\n",
    "        self,\n",
    "        input_ids: TensorType[\"batch\", \"seq_len\", \"n_dim\"],\n",
    "        attention_mask: TensorType[\"batch\", \"seq_len\"]\n",
    "    ) -> TensorType[\"batch\", \"log_probs\"]:\n",
    "        \n",
    "        with torch.no_grad():\n",
    "            # action_logits, action_logprobs, entropy, value\n",
    "            _, logprobs, entropy, value = self.model(input_ids, attention_mask)\n",
    "            _, ref_logprob, _, _ = self.ref_model(input_ids, attention_mask)\n",
    "        \n",
    "        loss = self.loss(logprobs, entropy, value, ref_logprob)\n",
    "        "
   ]
  }
 ],
 "metadata": {
  "kernelspec": {
   "display_name": "env",
   "language": "python",
   "name": "python3"
  }
 },
 "nbformat": 4,
 "nbformat_minor": 2
}
