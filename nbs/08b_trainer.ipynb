{
 "cells": [
  {
   "attachments": {},
   "cell_type": "markdown",
   "metadata": {},
   "source": [
    "# Trainer\n",
    "\n",
    "> Fill in a module description here"
   ]
  },
  {
   "cell_type": "code",
   "execution_count": null,
   "metadata": {},
   "outputs": [],
   "source": [
    "#| default_exp trainer"
   ]
  },
  {
   "cell_type": "code",
   "execution_count": null,
   "metadata": {},
   "outputs": [],
   "source": [
    "#| hide\n",
    "import nbdev; nbdev.nbdev_export()"
   ]
  },
  {
   "cell_type": "code",
   "execution_count": null,
   "metadata": {},
   "outputs": [],
   "source": [
    "#| export\n",
    "import pytorch_lightning as pl "
   ]
  },
  {
   "cell_type": "code",
   "execution_count": null,
   "metadata": {},
   "outputs": [],
   "source": [
    "#| export\n",
    "from typing import Callable, Tuple\n",
    "\n",
    "import torch\n",
    "from torchtyping import TensorType\n",
    "from einops import rearrange"
   ]
  },
  {
   "attachments": {},
   "cell_type": "markdown",
   "metadata": {},
   "source": [
    "$L_t^{C L I P+V F+S}(\\theta)=\\hat{\\mathbb{E}}_t\\left[L_t^{C L I P}(\\theta)-c_1 L_t^{V F}(\\theta)+c_2 S\\left[\\pi_\\theta\\right]\\left(s_t\\right)\\right]$\n",
    "\n",
    "$L^{C L I P}(\\theta)=\\hat{\\mathbb{E}}_t\\left[\\min \\left(r_t(\\theta) \\hat{A}_t, \\operatorname{clip}\\left(r_t(\\theta), 1-\\epsilon, 1+\\epsilon\\right) \\hat{A}_t\\right)\\right]$\n",
    "\n",
    "$\\frac{\\pi_\\theta\\left(a_t \\mid s_t\\right)}{\\pi_{\\theta_{\\text {old }}}\\left(a_t \\mid s_t\\right)} = \\log(\\pi_\\theta\\left(a_t \\mid s_t\\right)) - \\log(\\pi_{\\theta_{\\text {old }}}\\left(a_t \\mid s_t\\right))$\n",
    "\n",
    "$r_t(\\theta)=\\frac{\\pi_\\theta\\left(a_t \\mid s_t\\right)}{\\pi_{\\theta_{\\text {old }}}\\left(a_t \\mid s_t\\right)}$"
   ]
  },
  {
   "cell_type": "code",
   "execution_count": null,
   "metadata": {},
   "outputs": [],
   "source": [
    "#| export\n",
    "class RLHFTrainer:\n",
    "    def __init__(\n",
    "        self, model: Callable, ref_model: Callable, config\n",
    "    ):\n",
    "        self.model = model\n",
    "        self.ref_model = ref_model\n",
    "        self.epsilon = config.epsilon\n",
    "        self.ent_coef = config.ent_coef\n",
    "        self.vf_coef = config.vf_coef\n",
    "    \n",
    "    @classmethod\n",
    "    def compute_advantage_and_return(\n",
    "        self,\n",
    "        rewards: TensorType[\"batch_size\"],\n",
    "        values: TensorType[\"batch_size\"]\n",
    "    ) -> Tuple[TensorType[\"batch_size\"], TensorType[\"batch_size\"]]:\n",
    "        # copied from https://github.com/lvwerra/trl/blob/d2e8bcf8373726fb92d2110c500f7df6d0bd566d/trl/trainer/ppo_trainer.py#L686\n",
    "        # TODO: understand this!!!!\n",
    "        \n",
    "        rewards = rearrange(rewards, 'b -> 1 b')\n",
    "        values = rearrange(values, 'b -> 1 b')\n",
    "        \n",
    "        lastgaelam = 0\n",
    "        advantages_reversed = []\n",
    "        gen_len = len(rewards)\n",
    "        \n",
    "        gamma = 1\n",
    "        lam = 0.95\n",
    "\n",
    "        for t in reversed(range(gen_len)):\n",
    "            nextvalues = values[:, t + 1] if t < gen_len - 1 else 0.0\n",
    "            delta = rewards[:, t] + gamma * nextvalues - values[:, t]\n",
    "            lastgaelam = delta + gamma * lam * lastgaelam\n",
    "            advantages_reversed.append(lastgaelam)\n",
    "\n",
    "        advantages = torch.stack(advantages_reversed[::-1]).transpose(0, 1)\n",
    "        returns = advantages + values\n",
    "\n",
    "        advantages = rearrange(advantages, '1 b -> b')\n",
    "        returns = rearrange(returns, '1 b -> b')\n",
    "        \n",
    "        return advantages, returns\n",
    "\n",
    "    def compute_loss(\n",
    "        self,\n",
    "        queries: TensorType[\"batch_size\", \"seq_len\"],\n",
    "        responses: TensorType[\"batch_size\", \"seq_len\"],\n",
    "        rewards: TensorType[\"batch_size\"],\n",
    "    ) -> TensorType[\"1\"]:\n",
    "        logprobs, values, entropies, ref_logprobs = self.forward_batch(queries, responses)\n",
    "        # loss = self.loss(logprobs, ref_logprobs, values)\n",
    "        \n",
    "        ratio = (logprobs - ref_logprobs).exp()\n",
    "        clipped_ratio = torch.clamp(ratio, min=1-self.epsilon, max=1+self.epsilon)\n",
    "        \n",
    "        # TODO: write the advantages\n",
    "        # advantages = rewards\n",
    "        # returns = rewards\n",
    "        advantages, returns = self.compute_advantage_and_return(rewards, values)\n",
    "        \n",
    "        pg_loss_1 = ratio * advantages\n",
    "        pg_loss_2 = ratio * clipped_ratio\n",
    "        \n",
    "        pg_loss = torch.min(pg_loss_1, pg_loss_2).mean()\n",
    "        \n",
    "        value_loss = (values - returns).pow(2).mean()\n",
    "        \n",
    "        loss = pg_loss - self.ent_coef * entropies.mean() + self.vf_coef * value_loss\n",
    "        \n",
    "        return loss\n",
    "    \n",
    "    def forward_batch(\n",
    "        self,\n",
    "        queries: TensorType[\"batch_size\", \"seq_len\"],\n",
    "        responses: TensorType[\"batch_size\", \"seq_len\"]\n",
    "    ) -> Tuple[\n",
    "        TensorType[\"batch_size\"], TensorType[\"batch_size\"],\n",
    "        TensorType[\"batch_size\"], TensorType[\"batch_size\"]\n",
    "    ]:\n",
    "        inputs = torch.cat([queries, responses], dim=1)\n",
    "        \n",
    "        _, logprobs, entropy, value = self.model(inputs)\n",
    "        _, ref_logprob, _, _ = self.ref_model(inputs)\n",
    "            \n",
    "        return logprobs, entropy, value, ref_logprob\n",
    "    \n",
    "    def forward(\n",
    "        self,\n",
    "        input_ids: TensorType[\"batch\", \"seq_len\", \"n_dim\"],\n",
    "        attention_mask: TensorType[\"batch\", \"seq_len\"]\n",
    "    ) -> TensorType[\"batch\", \"log_probs\"]:\n",
    "        \n",
    "        with torch.no_grad():\n",
    "            # action_logits, action_logprobs, entropy, value\n",
    "            _, logprobs, entropy, value = self.model(input_ids, attention_mask)\n",
    "            _, ref_logprob, _, _ = self.ref_model(input_ids, attention_mask)\n",
    "        \n",
    "        loss = self.loss(logprobs, entropy, value, ref_logprob)\n",
    "        "
   ]
  }
 ],
 "metadata": {
  "kernelspec": {
   "display_name": "env",
   "language": "python",
   "name": "python3"
  }
 },
 "nbformat": 4,
 "nbformat_minor": 2
}
