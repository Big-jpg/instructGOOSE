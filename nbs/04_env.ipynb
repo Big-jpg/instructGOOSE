{
 "cells": [
  {
   "attachments": {},
   "cell_type": "markdown",
   "metadata": {},
   "source": [
    "# env\n",
    "\n",
    "> Fill in a module description here"
   ]
  },
  {
   "cell_type": "code",
   "execution_count": null,
   "metadata": {},
   "outputs": [],
   "source": [
    "#| default_exp env"
   ]
  },
  {
   "cell_type": "code",
   "execution_count": null,
   "metadata": {},
   "outputs": [],
   "source": [
    "#| export\n",
    "# from textrl import TextRLEnv, TextRLActor\n",
    "import torch\n",
    "import gymnasium as gym"
   ]
  },
  {
   "cell_type": "code",
   "execution_count": null,
   "metadata": {},
   "outputs": [],
   "source": [
    "#| export\n",
    "class TextRLEnv(gym.Env):\n",
    "    def __init__(self, model, tokenizer, observation_input=[], max_length=100):\n",
    "        vocabs = list(dict(sorted(tokenizer.vocab.items(), key=lambda item: item[1])).keys())\n",
    "        \n",
    "        self.action_space = gym.spaces.Discrete(len(vocabs))\n",
    "        self.actions = vocabs\n",
    "        self.model = model\n",
    "        \n",
    "        # TODO: what is this\n",
    "        self.env_max_length = max_length\n",
    "        self.tokenizer = tokenizer\n",
    "        # TODO: what is this\n",
    "        self.observation_space = observation_input\n",
    "        self.target_table = {}\n",
    "        self.input_item = [\"\"]\n",
    "        self.predicted = []\n",
    "        \n",
    "        self.reset()\n",
    "    \n",
    "    def reset(self): pass"
   ]
  }
 ],
 "metadata": {
  "kernelspec": {
   "display_name": "env",
   "language": "python",
   "name": "python3"
  }
 },
 "nbformat": 4,
 "nbformat_minor": 2
}
