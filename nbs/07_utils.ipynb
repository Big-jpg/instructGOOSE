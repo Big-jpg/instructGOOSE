{
 "cells": [
  {
   "attachments": {},
   "cell_type": "markdown",
   "metadata": {},
   "source": [
    "# utils\n",
    "\n",
    "> Fill in a module description here"
   ]
  },
  {
   "cell_type": "code",
   "execution_count": null,
   "metadata": {},
   "outputs": [],
   "source": [
    "#| default_exp utils"
   ]
  },
  {
   "cell_type": "code",
   "execution_count": null,
   "metadata": {},
   "outputs": [],
   "source": [
    "#| hide\n",
    "from nbdev.showdoc import *\n",
    "import nbdev; nbdev.nbdev_export()"
   ]
  },
  {
   "cell_type": "code",
   "execution_count": null,
   "metadata": {},
   "outputs": [],
   "source": [
    "#| export\n",
    "import yaml\n",
    "from copy import deepcopy\n",
    "from dataclasses import dataclass"
   ]
  },
  {
   "cell_type": "code",
   "execution_count": null,
   "metadata": {},
   "outputs": [],
   "source": [
    "#| export\n",
    "def load_yaml(config_path):\n",
    "    with open(config_path, \"r\") as f:\n",
    "        return yaml.safe_load(f)"
   ]
  },
  {
   "cell_type": "code",
   "execution_count": null,
   "metadata": {},
   "outputs": [],
   "source": [
    "#| export\n",
    "@dataclass\n",
    "class RLHFConfig:\n",
    "    # PPO config\n",
    "    epsilon: float = 0.1\n",
    "    # entropy coefficient\n",
    "    ent_coef: float = 0.01\n",
    "    vf_coef: float = 0.1"
   ]
  },
  {
   "cell_type": "code",
   "execution_count": null,
   "metadata": {},
   "outputs": [],
   "source": [
    "#| export\n",
    "class ReplayBuffer:\n",
    "    def __init__(self) -> None:\n",
    "        self.obs = []\n",
    "        self.log_probs = []\n",
    "        self.actions = []\n",
    "        self.advantages = []\n",
    "        self.returns = []\n",
    "        self.values = []\n",
    "    \n",
    "    def append(self, obs, log_prob, action, advantage, return_, value):\n",
    "        self.obs.append(obs)\n",
    "        self.log_probs.append(log_prob)\n",
    "        self.actions.append(action)\n",
    "        self.advantages.append(advantage)\n",
    "        self.returns.append(return_)\n",
    "        self.values.append(value)"
   ]
  },
  {
   "attachments": {},
   "cell_type": "markdown",
   "metadata": {},
   "source": [
    "### Reference Model"
   ]
  },
  {
   "cell_type": "code",
   "execution_count": null,
   "metadata": {},
   "outputs": [],
   "source": [
    "#| export\n",
    "def create_reference_model(model):\n",
    "    ref_model = deepcopy(model).eval()\n",
    "    return ref_model"
   ]
  }
 ],
 "metadata": {
  "kernelspec": {
   "display_name": "env",
   "language": "python",
   "name": "python3"
  }
 },
 "nbformat": 4,
 "nbformat_minor": 2
}
