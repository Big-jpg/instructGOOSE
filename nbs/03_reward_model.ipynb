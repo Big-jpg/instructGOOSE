{
 "cells": [
  {
   "attachments": {},
   "cell_type": "markdown",
   "metadata": {},
   "source": [
    "# reward_model\n",
    "\n",
    "> Fill in a module description here"
   ]
  },
  {
   "cell_type": "code",
   "execution_count": null,
   "metadata": {},
   "outputs": [],
   "source": [
    "#| default_exp reward"
   ]
  },
  {
   "cell_type": "code",
   "execution_count": null,
   "metadata": {},
   "outputs": [],
   "source": [
    "#| hide\n",
    "from nbdev.showdoc import *\n",
    "import nbdev; nbdev.nbdev_export()"
   ]
  },
  {
   "cell_type": "code",
   "execution_count": null,
   "metadata": {},
   "outputs": [],
   "source": [
    "#| export\n",
    "import torch\n",
    "from torch import nn\n",
    "from transformers import AutoModel, AutoTokenizer\n",
    "from einops import rearrange\n",
    "\n",
    "from instruct_goose.utils import load_yaml"
   ]
  },
  {
   "attachments": {},
   "cell_type": "markdown",
   "metadata": {},
   "source": [
    "### Loss function"
   ]
  },
  {
   "attachments": {},
   "cell_type": "markdown",
   "metadata": {},
   "source": [
    "$\\operatorname{loss}(\\theta)=-\\frac{1}{\\left(\\begin{array}{c}\n",
    "K \\\\\n",
    "2\n",
    "\\end{array}\\right)} E_{\\left(x, y_w, y_l\\right) \\sim D}\\left[\\log \\left(\\sigma\\left(r_\\theta\\left(x, y_w\\right)-r_\\theta\\left(x, y_l\\right)\\right)\\right)\\right]$"
   ]
  },
  {
   "cell_type": "code",
   "execution_count": null,
   "metadata": {},
   "outputs": [],
   "source": [
    "#| export\n",
    "class RewardModel(nn.Module):\n",
    "    def __init__(self, checkpoint: str, dropout: float = 0.1):\n",
    "        super().__init__()\n",
    "        self.tokenizer = AutoTokenizer.from_pretrained(checkpoint)\n",
    "        self.model = AutoModel.from_pretrained(checkpoint)\n",
    "        \n",
    "        config = self.model.config\n",
    "        # last_hidden_state = config.n_possitions\n",
    "        n_embed = config.n_embd\n",
    "        \n",
    "        # custom head\n",
    "        self.dropout = nn.Dropout(dropout)\n",
    "        self.reward_head = nn.Linear(n_embed, 1)\n",
    "    \n",
    "    def compute_policy_shift_loss(self, current_policy_dist, old_policy_dist):\n",
    "        assert current_policy_dist.sum(dim=-1) == 1\n",
    "        assert old_policy_dist.sum(dim=-1) == 1\n",
    "        \n",
    "        kl_loss = nn.KLDivLoss()\n",
    "        \n",
    "        return kl_loss(current_policy_dist.log(), old_policy_dist)\n",
    "    \n",
    "    def compute_reward_value(self, prompt: str):\n",
    "        inputs = self.tokenizer(prompt, return_tensors=\"pt\")\n",
    "    \n",
    "    def compute_loss(self):\n",
    "        loss_policy_shift = self.compute_policy_shift_loss()\n",
    "        \n",
    "    def forward(self, input_ids: torch.Tensor, attention_mask: torch.Tensor):\n",
    "        last_hidden_state = self.model(\n",
    "            input_ids=input_ids,\n",
    "            attention_mask=attention_mask,\n",
    "        ).last_hidden_state\n",
    "        \n",
    "        output = self.dropout(last_hidden_state)\n",
    "        output = self.reward_head(output)\n",
    "                \n",
    "        output = rearrange(output, 'b 1 t 1 -> b t')\n",
    "        # chose the hidden state of the last token as a reward!\n",
    "        reward_scalar = output[:, -1]\n",
    "        \n",
    "        return reward_scalar"
   ]
  },
  {
   "cell_type": "code",
   "execution_count": null,
   "metadata": {},
   "outputs": [],
   "source": [
    "# config = load_yaml(\"../configs/sentiment_config.yml\")"
   ]
  },
  {
   "cell_type": "code",
   "execution_count": null,
   "metadata": {},
   "outputs": [],
   "source": [
    "# checkpoint = config[\"reward_model\"][\"model_path\"]\n",
    "# reward_model = RewardModel(checkpoint, dropout=0.1)"
   ]
  }
 ],
 "metadata": {
  "kernelspec": {
   "display_name": "env",
   "language": "python",
   "name": "python3"
  }
 },
 "nbformat": 4,
 "nbformat_minor": 2
}
