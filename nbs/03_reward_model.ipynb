{
 "cells": [
  {
   "attachments": {},
   "cell_type": "markdown",
   "metadata": {},
   "source": [
    "# Reward Model\n",
    "\n",
    "> Fill in a module description here"
   ]
  },
  {
   "cell_type": "code",
   "execution_count": null,
   "metadata": {},
   "outputs": [],
   "source": [
    "#| default_exp reward"
   ]
  },
  {
   "cell_type": "code",
   "execution_count": null,
   "metadata": {},
   "outputs": [],
   "source": [
    "#| hide\n",
    "from nbdev.showdoc import *\n",
    "import nbdev; nbdev.nbdev_export()"
   ]
  },
  {
   "cell_type": "code",
   "execution_count": null,
   "metadata": {},
   "outputs": [
    {
     "name": "stderr",
     "output_type": "stream",
     "text": [
      "/Users/education/DATA/projects/ai/RLHF/instructGOOSE/env/lib/python3.10/site-packages/tqdm/auto.py:22: TqdmWarning: IProgress not found. Please update jupyter and ipywidgets. See https://ipywidgets.readthedocs.io/en/stable/user_install.html\n",
      "  from .autonotebook import tqdm as notebook_tqdm\n"
     ]
    }
   ],
   "source": [
    "#| export\n",
    "from typing import Callable, Union, List\n",
    "\n",
    "import torch\n",
    "from torch import nn\n",
    "import torch.nn.functional as F\n",
    "from torch import optim\n",
    "import pytorch_lightning as pl \n",
    "from transformers import AutoModel, AutoTokenizer\n",
    "from einops import rearrange\n",
    "from torchtyping import TensorType\n",
    "\n",
    "from instruct_goose.utils import load_yaml"
   ]
  },
  {
   "attachments": {},
   "cell_type": "markdown",
   "metadata": {},
   "source": [
    "### Reward Model"
   ]
  },
  {
   "cell_type": "code",
   "execution_count": null,
   "metadata": {},
   "outputs": [],
   "source": [
    "#| export\n",
    "class RewardModel(nn.Module):\n",
    "    def __init__(self, checkpoint: str, dropout: float = 0.1):\n",
    "        super().__init__()\n",
    "        # self.tokenizer = AutoTokenizer.from_pretrained(checkpoint)\n",
    "        # self.tokenizer.pad_token = self.tokenizer.eos_token\n",
    "        self.model = AutoModel.from_pretrained(checkpoint)\n",
    "        \n",
    "        config = self.model.config\n",
    "        n_embed = config.n_embd\n",
    "        \n",
    "        # custom head\n",
    "        self.reward_head = nn.Sequential(\n",
    "            nn.Dropout(dropout),\n",
    "            nn.Linear(n_embed, 1),\n",
    "            nn.Sigmoid()\n",
    "        )\n",
    "        \n",
    "    def forward(\n",
    "        self,\n",
    "        input_ids: TensorType[\"batch_size\", \"seq_len\"],\n",
    "        attention_mask: TensorType[\"batch_size\", \"seq_len\"],\n",
    "    ) -> TensorType[\"batch_size\", 1]:\n",
    "        # inputs = self.tokenizer(\n",
    "        #     prompts,\n",
    "        #     padding=True,\n",
    "        #     truncation=True,\n",
    "        #     return_tensors=\"pt\"\n",
    "        # )\n",
    "        \n",
    "        last_hidden_state = self.model(\n",
    "            input_ids=input_ids,\n",
    "            attention_mask=attention_mask,\n",
    "        ).last_hidden_state\n",
    "        \n",
    "        output = self.reward_head(last_hidden_state)\n",
    "                \n",
    "        # output = rearrange(output, 'b 1 t 1 -> b t')\n",
    "        # for eacb item in the batch\n",
    "        # choose the hidden state of the last token as a reward!\n",
    "        reward_scalar = output[:, -1, 0]\n",
    "        \n",
    "        return reward_scalar"
   ]
  },
  {
   "attachments": {},
   "cell_type": "markdown",
   "metadata": {},
   "source": [
    "### Loss function\n",
    "\n",
    "$\\operatorname{loss}(\\theta)=-\\frac{1}{\\left(\\begin{array}{c}\n",
    "K \\\\\n",
    "2\n",
    "\\end{array}\\right)} E_{\\left(x, y_w, y_l\\right) \\sim D}\\left[\\log \\left(\\sigma\\left(r_\\theta\\left(x, y_w\\right)-r_\\theta\\left(x, y_l\\right)\\right)\\right)\\right]$"
   ]
  },
  {
   "cell_type": "code",
   "execution_count": null,
   "metadata": {},
   "outputs": [],
   "source": [
    "#| export\n",
    "class PairwiseLoss(nn.Module):\n",
    "    def forward(self, chosen_rewards: torch.Tensor, rejected_rewards: torch.Tensor):\n",
    "        assert len(chosen_rewards) == len(rejected_rewards)\n",
    "        batch_size = len(chosen_rewards)\n",
    "        \n",
    "        # maps the difference between the rewards to a probability\n",
    "        probs = torch.sigmoid(chosen_rewards - rejected_rewards)\n",
    "        return -probs.mean() / batch_size"
   ]
  },
  {
   "attachments": {},
   "cell_type": "markdown",
   "metadata": {},
   "source": [
    "### Trainer"
   ]
  },
  {
   "cell_type": "code",
   "execution_count": null,
   "metadata": {},
   "outputs": [],
   "source": [
    "#| export\n",
    "class LitRewardModel(pl.LightningModule):\n",
    "    def __init__(\n",
    "        self, model: Callable, loss_func: Callable,\n",
    "        lr: Union[int, float] = 1e-3\n",
    "    ):\n",
    "        super().__init__()\n",
    "        self.model = model\n",
    "        self.loss_func = loss_func\n",
    "        self.lr = lr\n",
    "    \n",
    "    def training_step(self, batch, batch_idx: int):\n",
    "        chosen_input_ids, chosen_attention_mask,\\\n",
    "        rejected_input_ids, rejected_attention_mask = batch\n",
    "        \n",
    "        chosen_rewards = self.model(chosen_input_ids, chosen_attention_mask)\n",
    "        rejected_rewards = self.model(rejected_input_ids, rejected_attention_mask)\n",
    "        \n",
    "        loss = self.loss_func(chosen_rewards, rejected_rewards)\n",
    "        \n",
    "        return loss\n",
    "    \n",
    "    def configure_optimizers(self):\n",
    "        optimizer = optim.Adam(self.model.parameters(), lr=self.lr)\n",
    "        return optimizer"
   ]
  }
 ],
 "metadata": {
  "kernelspec": {
   "display_name": "env",
   "language": "python",
   "name": "python3"
  }
 },
 "nbformat": 4,
 "nbformat_minor": 2
}
