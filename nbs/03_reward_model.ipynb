{
 "cells": [
  {
   "attachments": {},
   "cell_type": "markdown",
   "metadata": {},
   "source": [
    "# reward_model\n",
    "\n",
    "> Fill in a module description here"
   ]
  },
  {
   "cell_type": "code",
   "execution_count": null,
   "metadata": {},
   "outputs": [],
   "source": [
    "#| default_exp reward"
   ]
  },
  {
   "cell_type": "code",
   "execution_count": null,
   "metadata": {},
   "outputs": [],
   "source": [
    "#| hide\n",
    "from nbdev.showdoc import *\n",
    "import nbdev; nbdev.nbdev_export()"
   ]
  },
  {
   "cell_type": "code",
   "execution_count": null,
   "metadata": {},
   "outputs": [
    {
     "name": "stderr",
     "output_type": "stream",
     "text": [
      "/Users/education/DATA/projects/ai/RLHF/instructGOOSE/env/lib/python3.10/site-packages/tqdm/auto.py:22: TqdmWarning: IProgress not found. Please update jupyter and ipywidgets. See https://ipywidgets.readthedocs.io/en/stable/user_install.html\n",
      "  from .autonotebook import tqdm as notebook_tqdm\n"
     ]
    }
   ],
   "source": [
    "#| export\n",
    "import torch\n",
    "from torch import nn\n",
    "import torch.nn.functional as F\n",
    "from transformers import AutoModel, AutoTokenizer\n",
    "from einops import rearrange\n",
    "\n",
    "from instruct_goose.utils import load_yaml"
   ]
  },
  {
   "attachments": {},
   "cell_type": "markdown",
   "metadata": {},
   "source": [
    "### Reward Model"
   ]
  },
  {
   "cell_type": "code",
   "execution_count": null,
   "metadata": {},
   "outputs": [],
   "source": [
    "# def compute_policy_shift_loss(self, current_policy_dist, old_policy_dist):\n",
    "#     #     assert current_policy_dist.sum(dim=-1) == 1\n",
    "#     #     assert old_policy_dist.sum(dim=-1) == 1\n",
    "        \n",
    "#     #     kl_loss = nn.KLDivLoss()\n",
    "        \n",
    "#     #     return kl_loss(current_policy_dist.log(), old_policy_dist)\n",
    "    \n",
    "#     # def compute_reward_value(self, prompt: str):\n",
    "#     #     inputs = self.tokenizer(prompt, return_tensors=\"pt\")\n",
    "    \n",
    "#     # def compute_loss(self):\n",
    "#     #     loss_policy_shift = self.compute_policy_shift_loss()"
   ]
  },
  {
   "cell_type": "code",
   "execution_count": null,
   "metadata": {},
   "outputs": [],
   "source": [
    "#| export\n",
    "class RewardModel(nn.Module):\n",
    "    def __init__(self, checkpoint: str, dropout: float = 0.1):\n",
    "        super().__init__()\n",
    "        self.tokenizer = AutoTokenizer.from_pretrained(checkpoint)\n",
    "        self.model = AutoModel.from_pretrained(checkpoint)\n",
    "        \n",
    "        config = self.model.config\n",
    "        n_embed = config.n_embd\n",
    "        \n",
    "        # custom head\n",
    "        self.dropout = nn.Dropout(dropout)\n",
    "        self.reward_head = nn.Linear(n_embed, 1)\n",
    "        \n",
    "    def forward(self, input_ids: torch.Tensor, attention_mask: torch.Tensor):\n",
    "        last_hidden_state = self.model(\n",
    "            input_ids=input_ids,\n",
    "            attention_mask=attention_mask,\n",
    "        ).last_hidden_state\n",
    "        \n",
    "        output = self.dropout(last_hidden_state)\n",
    "        output = self.reward_head(output)\n",
    "                \n",
    "        # output = rearrange(output, 'b 1 t 1 -> b t')\n",
    "        # for eacb item in the batch\n",
    "        # choose the hidden state of the last token as a reward!\n",
    "        reward_scalar = output[:, -1, 0]\n",
    "        \n",
    "        return reward_scalar"
   ]
  },
  {
   "cell_type": "code",
   "execution_count": null,
   "metadata": {},
   "outputs": [],
   "source": [
    "# config = load_yaml(\"../configs/sentiment_config.yml\")"
   ]
  },
  {
   "cell_type": "code",
   "execution_count": null,
   "metadata": {},
   "outputs": [],
   "source": [
    "# checkpoint = config[\"reward_model\"][\"model_path\"]\n",
    "# reward_model = RewardModel(checkpoint, dropout=0.1)"
   ]
  },
  {
   "attachments": {},
   "cell_type": "markdown",
   "metadata": {},
   "source": [
    "### Loss function\n",
    "\n",
    "$\\operatorname{loss}(\\theta)=-\\frac{1}{\\left(\\begin{array}{c}\n",
    "K \\\\\n",
    "2\n",
    "\\end{array}\\right)} E_{\\left(x, y_w, y_l\\right) \\sim D}\\left[\\log \\left(\\sigma\\left(r_\\theta\\left(x, y_w\\right)-r_\\theta\\left(x, y_l\\right)\\right)\\right)\\right]$"
   ]
  },
  {
   "cell_type": "code",
   "execution_count": null,
   "metadata": {},
   "outputs": [],
   "source": [
    "#| export\n",
    "class RewardLoss(nn.Module):\n",
    "    def forward(self, chosen_rewards: torch.Tensor, rejected_rewards: torch.Tensor):\n",
    "        assert len(chosen_rewards) == len(rejected_rewards)\n",
    "        batch_size = len(chosen_rewards)\n",
    "        \n",
    "        probs = F.sigmoid(chosen_rewards - rejected_rewards, dim=-1)\n",
    "        return -probs.mean() / batch_size"
   ]
  },
  {
   "cell_type": "code",
   "execution_count": null,
   "metadata": {},
   "outputs": [],
   "source": []
  }
 ],
 "metadata": {
  "kernelspec": {
   "display_name": "env",
   "language": "python",
   "name": "python3"
  }
 },
 "nbformat": 4,
 "nbformat_minor": 2
}
